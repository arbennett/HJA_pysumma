{
 "cells": [
  {
   "cell_type": "code",
   "execution_count": 1,
   "id": "3f1ec54e-4b7f-47e8-a10c-2e925f70b9fc",
   "metadata": {},
   "outputs": [],
   "source": [
    "import xarray as xr\n",
    "import pandas as pd\n",
    "import pysumma as ps\n",
    "\n",
    "def convert_time_to_summa_string(t):\n",
    "    return (\n",
    "        f'{t.dt.year.values[()]:04}'\n",
    "        f'-{t.dt.month.values[()]:02}'\n",
    "        f'-{t.dt.day.values[()]:02}'\n",
    "        f' {t.dt.hour.values[()]:02}'\n",
    "        f':{t.dt.minute.values[()]:02}'\n",
    "    )\n",
    "\n",
    "attrs = {\n",
    "   'airpres':  {'units': 'Pa', 'long_name': 'Air pressure'},\n",
    "   'airtemp':  {'units': 'K', 'long_name': 'Air temperature'},\n",
    "   'spechum':  {'units': 'g g-1', 'long_name': 'Specific humidity'},\n",
    "   'windspd':  {'units': 'Wind speed', 'long_name': 'm s-1'},\n",
    "   'SWRadAtm': {'units': 'W m-2', 'long_name': 'Downward shortwave radiation'},\n",
    "   'LWRadAtm': {'units': 'W m-2', 'long_name': 'Downward longwave radiation'},\n",
    "   'pptrate':  {'units': 'kg m-2 s-1', 'long_name': 'Precipitation rate'}\n",
    "}\n",
    "name_lookup = {\n",
    "    'airpres':  'pressure',\n",
    "    'airtemp':  'temperature',\n",
    "    'spechum':  'specific_humidity',\n",
    "    'windspd':  'windspeed',\n",
    "    'SWRadAtm': 'shortwave_radiation',\n",
    "    'LWRadAtm': 'longwave_radiation',\n",
    "    'pptrate':  'total_precipitation',\n",
    "}"
   ]
  },
  {
   "cell_type": "code",
   "execution_count": 2,
   "id": "a7876c03-4e78-4783-83ba-e84874cd4ef2",
   "metadata": {},
   "outputs": [],
   "source": [
    "df = pd.read_csv('../NLDAS2_WY22.csv')\n",
    "df.index = pd.DatetimeIndex(df['time_convert'], name='time')\n",
    "\n",
    "forcing_filename = 'hj_andrews_wy2021.nc'\n",
    "# Adding 1 hour to account for SUMMA being period-ending\n",
    "time_idx = df.index + pd.Timedelta('1H')\n",
    "shape = (len(time_idx), 1, )\n",
    "dims = ('time', 'hru', )\n",
    "coords = {'time': time_idx}\n",
    "\n",
    "met_data = xr.Dataset(coords=coords)\n",
    "met_data.time.encoding['calendar'] = 'standard'\n",
    "met_data.time.encoding['units'] = 'hours since 2021-10-01'\n",
    "for varname, varattrs in attrs.items():\n",
    "    df_name = name_lookup[varname]\n",
    "    met_data[varname] = xr.DataArray(\n",
    "        data=df[df_name].values.reshape(-1, 1),\n",
    "        coords=coords, dims=dims, name=varname, attrs=varattrs\n",
    "    )\n",
    "\n",
    "met_data['airtemp'] += 273.16  # Convert to Kelvin\n",
    "met_data['pptrate'] /= 3600.0  # Convert to mm/s\n",
    "met_data['data_step'] = xr.Variable([], 3600.0)\n",
    "met_data.to_netcdf(f'./forcings/{forcing_filename}')\n",
    "\n",
    "with open('./forcings/forcing_file_list.txt', 'w') as f:\n",
    "    f.write(f\"'{forcing_filename}'\\n\")"
   ]
  },
  {
   "cell_type": "code",
   "execution_count": 3,
   "id": "1617f357-5381-402a-a25b-54489d0ff950",
   "metadata": {},
   "outputs": [],
   "source": [
    "lat = 44.2072180256268\n",
    "lon = -122.119450090239\n",
    "elev = 1050\n",
    "local_attrs = xr.open_dataset('../summa_setup_template/params/local_attributes.nc').load()\n",
    "local_attrs['longitude'].values[:] = lon\n",
    "local_attrs['latitude'].values[:] = lat\n",
    "local_attrs['elevation'].values[:] = elev\n",
    "# 1 is evergreen needleleaf forest in the MODIFIED_IGBP_MODIS_NOAH option\n",
    "# for the `vegeParTbl` decision. This can be found in the `VEGPARM.TBL` file\n",
    "local_attrs['vegTypeIndex'].values[:] = 1\n",
    "local_attrs.to_netcdf('./params/local_attributes.nc')"
   ]
  },
  {
   "cell_type": "code",
   "execution_count": 4,
   "id": "ad31797e-9f93-4502-a548-ae2d8da91865",
   "metadata": {},
   "outputs": [
    {
     "data": {
      "text/plain": [
       "'Success'"
      ]
     },
     "execution_count": 4,
     "metadata": {},
     "output_type": "execute_result"
    }
   ],
   "source": [
    "!./install_local_setup.sh\n",
    "\n",
    "summa_exe = '/home/bzq/workspace/summa/bin/summa.exe'\n",
    "file_manager = './file_manager.txt'\n",
    "s = ps.Simulation(summa_exe, file_manager)\n",
    "\n",
    "t0 = met_data['time'].isel(time=0)\n",
    "t1 = met_data['time'].isel(time=-1)\n",
    "s.manager['simStartTime'] = convert_time_to_summa_string(t0)\n",
    "s.manager['simEndTime'] = convert_time_to_summa_string(t1)\n",
    "\n",
    "s.run('local')\n",
    "s.status"
   ]
  },
  {
   "cell_type": "code",
   "execution_count": null,
   "id": "a9fbee29-1379-4ce4-8d27-a0e01437acaf",
   "metadata": {},
   "outputs": [],
   "source": []
  },
  {
   "cell_type": "code",
   "execution_count": null,
   "id": "496d54a5-59a7-40d4-9a89-6f958b5e6132",
   "metadata": {},
   "outputs": [],
   "source": []
  }
 ],
 "metadata": {
  "kernelspec": {
   "display_name": "pysumma",
   "language": "python",
   "name": "pysumma"
  },
  "language_info": {
   "codemirror_mode": {
    "name": "ipython",
    "version": 3
   },
   "file_extension": ".py",
   "mimetype": "text/x-python",
   "name": "python",
   "nbconvert_exporter": "python",
   "pygments_lexer": "ipython3",
   "version": "3.11.0"
  }
 },
 "nbformat": 4,
 "nbformat_minor": 5
}
