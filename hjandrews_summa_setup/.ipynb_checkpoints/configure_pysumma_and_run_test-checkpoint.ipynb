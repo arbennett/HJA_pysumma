{
 "cells": [
  {
   "cell_type": "code",
   "execution_count": 69,
   "id": "c1322c05-46e6-46ad-ad4c-1ccc38aacaea",
   "metadata": {},
   "outputs": [],
   "source": [
    "import xarray as xr\n",
    "import pandas as pd\n",
    "import pysumma as ps"
   ]
  },
  {
   "cell_type": "code",
   "execution_count": 70,
   "id": "e3b6ca71-5eee-49b0-b257-ae479c073ccf",
   "metadata": {},
   "outputs": [],
   "source": [
    "attrs = {\n",
    "   'airpres':  {'units': 'Pa', 'long_name': 'Air pressure'},\n",
    "   'airtemp':  {'units': 'K', 'long_name': 'Air temperature'},\n",
    "   'spechum':  {'units': 'g g-1', 'long_name': 'Specific humidity'},\n",
    "   'windspd':  {'units': 'Wind speed', 'long_name': 'm s-1'},\n",
    "   'SWRadAtm': {'units': 'W m-2', 'long_name': 'Downward shortwave radiation'},\n",
    "   'LWRadAtm': {'units': 'W m-2', 'long_name': 'Downward longwave radiation'},\n",
    "   'pptrate':  {'units': 'kg m-2 s-1', 'long_name': 'Precipitation rate'}\n",
    "}\n",
    "name_lookup = {\n",
    "    'airpres':  'pressure',\n",
    "    'airtemp':  'temperature',\n",
    "    'spechum':  'specific_humidity',\n",
    "    'windspd':  'windspeed',\n",
    "    'SWRadAtm': 'shortwave_radiation',\n",
    "    'LWRadAtm': 'longwave_radiation',\n",
    "    'pptrate':  'total_precipitation',\n",
    "}\n",
    "\n",
    "lat = 44.2072180256268\n",
    "lon = -122.119450090239\n",
    "elev = 1050\n",
    "\n",
    "df = pd.read_csv('../HJA_pysumma/NLDAS2_WY22.csv')\n",
    "df.index = pd.DatetimeIndex(df['time_convert'], name='time')"
   ]
  },
  {
   "cell_type": "code",
   "execution_count": 121,
   "id": "d815093c-a7d2-43f1-b311-8e668360bc85",
   "metadata": {},
   "outputs": [],
   "source": [
    "# Adding 1 hour to account for SUMMA being period-ending\n",
    "time_idx = df.index + pd.Timedelta('1H')\n",
    "shape = (len(time_idx), 1, )\n",
    "dims = ('time', 'hru', )\n",
    "coords = {'time': time_idx}\n",
    "\n",
    "met_data = xr.Dataset(coords=coords)\n",
    "met_data.time.encoding['calendar'] = 'standard'\n",
    "met_data.time.encoding['units'] = 'hours since 2021-10-01'\n",
    "for varname, varattrs in attrs.items():\n",
    "    df_name = name_lookup[varname]\n",
    "    met_data[varname] = xr.DataArray(\n",
    "        data=df[df_name].values.reshape(-1, 1),\n",
    "        coords=coords, dims=dims, name=varname, attrs=varattrs\n",
    "    )\n",
    "\n",
    "met_data['airtemp'] += 273.16  # Convert to Kelvin\n",
    "met_data['pptrate'] /= 3600.0  # Convert to mm/s\n",
    "met_data['data_step'] = xr.Variable([], 3600.0)\n",
    "forcing_filename = 'hj_andrews_wy2021.nc'\n",
    "met_data.to_netcdf(f'./forcings/{forcing_filename}')\n",
    "\n",
    "with open('./forcings/forcing_file_list.txt', 'w') as f:\n",
    "    f.write(f\"'{forcing_filename}'\\n\")"
   ]
  },
  {
   "cell_type": "code",
   "execution_count": 122,
   "id": "1617f357-5381-402a-a25b-54489d0ff950",
   "metadata": {},
   "outputs": [],
   "source": [
    "local_attrs = xr.open_dataset('../summa_setup_template/params/local_attributes.nc').load()\n",
    "local_attrs['longitude'].values[:] = lon\n",
    "local_attrs['latitude'].values[:] = lat\n",
    "local_attrs['elevation'].values[:] = elev\n",
    "# 1 is evergreen needleleaf forest in the MODIFIED_IGBP_MODIS_NOAH option\n",
    "# for the `vegeParTbl` decision. This can be found in the `VEGPARM.TBL` file\n",
    "local_attrs['vegTypeIndex'].values[:] = 1\n",
    "local_attrs.to_netcdf('./params/local_attributes.nc')"
   ]
  },
  {
   "cell_type": "code",
   "execution_count": 153,
   "id": "6cef1b0e-1c75-4210-811f-fddb6aecb904",
   "metadata": {},
   "outputs": [],
   "source": [
    "!./install_local_setup.sh"
   ]
  },
  {
   "cell_type": "code",
   "execution_count": 154,
   "id": "9a3baadb-b628-4690-bb6d-8b2a478e2908",
   "metadata": {},
   "outputs": [],
   "source": [
    "summa_exe = '/home/bzq/workspace/summa/bin/summa.exe'\n",
    "file_manager = './file_manager.txt'\n",
    "s = ps.Simulation(summa_exe, file_manager)"
   ]
  },
  {
   "cell_type": "code",
   "execution_count": 155,
   "id": "c2b62105-6e36-443b-a7e8-724c457d953a",
   "metadata": {},
   "outputs": [],
   "source": [
    "t0 = met_data['time'].isel(time=0)\n",
    "t1 = met_data['time'].isel(time=-1)"
   ]
  },
  {
   "cell_type": "code",
   "execution_count": 156,
   "id": "72780e8a-4911-4cc9-91c9-ead84ccfb153",
   "metadata": {},
   "outputs": [],
   "source": [
    "def convert_time_to_summa_string(t):\n",
    "    return (\n",
    "        f'{t.dt.year.values[()]:04}'\n",
    "        f'-{t.dt.month.values[()]:02}'\n",
    "        f'-{t.dt.day.values[()]:02}'\n",
    "        f' {t.dt.hour.values[()]:02}'\n",
    "        f':{t.dt.minute.values[()]:02}'\n",
    "    )"
   ]
  },
  {
   "cell_type": "code",
   "execution_count": 157,
   "id": "0c308fa8-8f08-447a-a04d-1a66c80a79c0",
   "metadata": {},
   "outputs": [],
   "source": [
    "s.manager['simStartTime'] = convert_time_to_summa_string(t0)\n",
    "s.manager['simEndTime'] = convert_time_to_summa_string(t1)"
   ]
  },
  {
   "cell_type": "code",
   "execution_count": 158,
   "id": "ae4b9e46-2466-463d-bf5d-9aef7b28df74",
   "metadata": {},
   "outputs": [],
   "source": [
    "s.run('local')"
   ]
  },
  {
   "cell_type": "code",
   "execution_count": 161,
   "id": "43cb8a10-6cbc-4ffc-b2aa-60c65f30b7d5",
   "metadata": {},
   "outputs": [
    {
     "name": "stdout",
     "output_type": "stream",
     "text": [
      "file_suffix is 'pysumma_run'.\n",
      "file_master is '/home/bzq/workspace/ian_project/hjandrews_summa_setup/.pysumma/pysumma_run/file_manager.txt'.\n",
      "   1 controlVersion: SUMMA_FILE_MANAGER_V3.0.0\n",
      "   2 simStartTime: 2021-10-01 01:00\n",
      "   3 simEndTime: 2022-09-30 00:00\n",
      "   4 tmZoneInfo: localTime\n",
      "   5 settingsPath: /home/bzq/workspace/ian_project/hjandrews_summa_setup/.pysumma/pysumma_run/settings/\n",
      "   6 forcingPath: /home/bzq/workspace/ian_project/hjandrews_summa_setup/forcings/\n",
      "   7 outputPath: /home/bzq/workspace/ian_project/hjandrews_summa_setup/output/\n",
      "   8 decisionsFile: decisions.txt\n",
      "   9 outputControlFile: output_control.txt\n",
      "  10 globalHruParamFile: ../params/local_param_info.txt\n",
      "  11 globalGruParamFile: ../params/basin_param_info.txt\n",
      "  12 attributeFile: ../params/local_attributes.nc\n",
      "  13 trialParamFile: ../params/parameter_trial.nc\n",
      "  14 forcingListFile: ../forcings/forcing_file_list.txt\n",
      "  15 initConditionFile: ../params/initial_conditions.nc\n",
      "  16 outFilePrefix: template_output\n",
      "  17 vegTableFile: VEGPARM.TBL\n",
      "  18 soilTableFile: SOILPARM.TBL\n",
      "  19 generalTableFile: GENPARM.TBL\n",
      "  20 noahmpTableFile: MPTABLE.TBL\n",
      "decisions file =  /home/bzq/workspace/ian_project/hjandrews_summa_setup/.pysumma/pysumma_run/settings/decisions.txt\n",
      "   1 soilCatTbl: ROSETTA\n",
      "   2 vegeParTbl: MODIFIED_IGBP_MODIS_NOAH\n",
      "   3 soilStress: NoahType\n",
      "   4 stomResist: BallBerryFlex\n",
      "   5 bbTempFunc: q10Func\n",
      "   6 bbHumdFunc: humidLeafSurface\n",
      "   7 bbElecFunc: quadraticJmax\n",
      "   8 bbCO2point: Leuning\n",
      "   9 bbAssimFnc: colimitation\n",
      "  10 bbCanIntg8: laiScaling\n",
      "  11 bbNumerics: newtonRaphson\n",
      "  12 num_method: itertive\n",
      "  13 fDerivMeth: analytic\n",
      "  14 LAI_method: monTable\n",
      "  15 f_Richards: mixdform\n",
      "  16 groundwatr: bigBuckt\n",
      "  17 hc_profile: pow_prof\n",
      "  18 bcUpprTdyn: nrg_flux\n",
      "  19 bcLowrTdyn: zeroFlux\n",
      "  20 bcUpprSoiH: liq_flux\n",
      "  21 bcLowrSoiH: zeroFlux\n",
      "  22 veg_traits: CM_QJRMS1988\n",
      "  23 rootProfil: powerLaw\n",
      "  24 canopyEmis: difTrans\n",
      "  25 snowIncept: lightSnow\n",
      "  26 windPrfile: logBelowCanopy\n",
      "  27 astability: louisinv\n",
      "  28 canopySrad: BeersLaw\n",
      "  29 alb_method: varDecay\n",
      "  30 compaction: anderson\n",
      "  31 snowLayers: CLM_2010\n",
      "  32 thCondSnow: jrdn1991\n",
      "  33 thCondSoil: funcSoilWet\n",
      "  34 spatial_gw: localColumn\n",
      "  35 subRouting: qInstant\n",
      "startTime: iyyy, im, id, ih, imin = 2021 10  1  1  0\n",
      "finshTime: iyyy, im, id, ih, imin = 2022  9 30  0  0\n",
      "number of time steps =        8736\n",
      " \n",
      "INFO: aspect not found in the input attribute file, continuing ...\n",
      "\n",
      "Skipping over LUTYPE = USGS\n",
      "Skipping over SLTYPE = STAS\n",
      "Skipping over SLTYPE = STAS-RUC\n",
      " WARNING: routingRunoffFuture is not in the initial conditions file ... using zeros\n",
      " Created output file: /home/bzq/workspace/ian_project/hjandrews_summa_setup/output/template_output_pysumma_run_timestep.nc\n",
      "2021 10  2  0  0\n",
      "2021 10  3  0  0\n",
      "2021 10  4  0  0\n",
      "2021 10  5  0  0\n",
      "2021 10  6  0  0\n",
      "2021 10  7  0  0\n",
      "2021 10  8  0  0\n",
      "2021 10  9  0  0\n",
      "2021 10 10  0  0\n",
      "2021 10 11  0  0\n",
      "2021 10 12  0  0\n",
      "2021 10 13  0  0\n",
      "2021 10 14  0  0\n",
      "2021 10 15  0  0\n",
      "2021 10 16  0  0\n",
      "2021 10 17  0  0\n",
      "2021 10 18  0  0\n",
      "2021 10 19  0  0\n",
      "2021 10 20  0  0\n",
      "2021 10 21  0  0\n",
      "2021 10 22  0  0\n",
      "2021 10 23  0  0\n",
      "2021 10 24  0  0\n",
      "2021 10 25  0  0\n",
      "2021 10 26  0  0\n",
      "\n",
      "\n",
      "FATAL ERROR: run_oneGRU (gru index = 1)/run_oneHRU (hruId = 1001)/coupled_em/opSplittin/varSubstep/systemSolv/summaSolve/safeRootfinder/infeasible solution\n",
      "\n",
      "\n"
     ]
    }
   ],
   "source": [
    "print(s.stdout)"
   ]
  },
  {
   "cell_type": "code",
   "execution_count": null,
   "id": "5dcb7e7a-407d-45e6-b0fb-80eebb430c4f",
   "metadata": {},
   "outputs": [],
   "source": []
  }
 ],
 "metadata": {
  "kernelspec": {
   "display_name": "pysumma",
   "language": "python",
   "name": "pysumma"
  },
  "language_info": {
   "codemirror_mode": {
    "name": "ipython",
    "version": 3
   },
   "file_extension": ".py",
   "mimetype": "text/x-python",
   "name": "python",
   "nbconvert_exporter": "python",
   "pygments_lexer": "ipython3",
   "version": "3.11.0"
  }
 },
 "nbformat": 4,
 "nbformat_minor": 5
}
